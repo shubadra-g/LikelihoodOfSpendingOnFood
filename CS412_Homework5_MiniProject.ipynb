{
 "cells": [
  {
   "cell_type": "markdown",
   "metadata": {},
   "source": [
    "#                              CS412 - Homework 5 - Mini-Project\n",
    "\n",
    "** Homework Option 2: Young People Survey - How likely a person is to pay more money for good, quality or healthy food? **\n",
    "\n",
    "This project uses the Young People Survey dataset (https://www.kaggle.com/miroslavsabo/young-people-survey/). The dataset contains preferences (music taste, spending habits, etc.) and some details about the person taking the survey (such as gender, age, height, weight, etc.). \n",
    "\n",
    "Goal: Understand how likely will a person want to spend / pay more for healthy, good and quality food. \n",
    "\n",
    "To start with, I have loaded the dataset into a dataframe to clean up the data and perform pre-processing steps. Post this, I set a baseline with the Logistic Regression model. To understand how features play a role, there are feature selection methods used, and then classic machine learning models have been applied. \n"
   ]
  },
  {
   "cell_type": "code",
   "execution_count": 70,
   "metadata": {},
   "outputs": [
    {
     "name": "stdout",
     "output_type": "stream",
     "text": [
      "Fetching required data...\n",
      "\n",
      "\n"
     ]
    }
   ],
   "source": [
    "'''Defining Imports'''\n",
    "from pandas import *\n",
    "import numpy\n",
    "from sklearn.preprocessing import LabelEncoder\n",
    "from sklearn.model_selection import train_test_split\n",
    "from sklearn.metrics import accuracy_score\n",
    "from sklearn.preprocessing import StandardScaler\n",
    "from sklearn.svm import LinearSVC\n",
    "import operator\n",
    "from sklearn.ensemble import RandomForestClassifier\n",
    "import matplotlib.pyplot as plt\n",
    "import statistics\n",
    "\n",
    "# print('Young People Survey Dataset - Task 2\\n\\n')\n",
    "\n",
    "'''Pulling the data from the CSV files'''\n",
    "#Loading data\n",
    "print('Fetching required data...\\n\\n')\n",
    "fname = 'responses.csv'\n",
    "f = open(fname, 'r') \n",
    "\n",
    "df = pandas.read_csv(fname)\n",
    "# print(df.describe())\n",
    "# print(len(df.columns))"
   ]
  },
  {
   "cell_type": "markdown",
   "metadata": {},
   "source": [
    "In order to understand the dataset, using data visualization techniques. \n",
    "\n",
    "\n",
    "1) A basic viz using histogram gives the overview of the data\n",
    "\n",
    "Understand the distribution of data according to our label / target column - 'Spending on healthy eating'"
   ]
  },
  {
   "cell_type": "code",
   "execution_count": 37,
   "metadata": {},
   "outputs": [
    {
     "name": "stdout",
     "output_type": "stream",
     "text": [
      "Distribution of data according to our label / target column - Spending on healthy eating\n"
     ]
    },
    {
     "data": {
      "image/png": "[encoded data removed]",
      "text/plain": [
       "<matplotlib.figure.Figure at 0x2024976bc88>"
      ]
     },
     "metadata": {},
     "output_type": "display_data"
    }
   ],
   "source": [
    "# 2) Understand the distribution of data according to our label / target column - 'Spending on healthy eating'\n",
    "print('Distribution of data according to our label / target column - Spending on healthy eating')\n",
    "df['Spending on healthy eating'].hist()\n",
    "plt.xlabel('Score')\n",
    "plt.ylabel('Spending on healthy eating')\n",
    "plt.grid(False)\n",
    "plt.show()\n"
   ]
  },
  {
   "cell_type": "markdown",
   "metadata": {},
   "source": [
    "From the above plot, we observe that the highest number of class is score 4, while the class 1 is under-represented. This unbalanced or skewed data is not very desirable for general classification. \n",
    "\n",
    "Using resample method from the sklearn library to add more rows to the dataset with class as 1. "
   ]
  },
  {
   "cell_type": "code",
   "execution_count": 38,
   "metadata": {},
   "outputs": [
    {
     "name": "stdout",
     "output_type": "stream",
     "text": [
      "(70, 150)\n"
     ]
    },
    {
     "data": {
      "text/plain": [
       "(1080, 150)"
      ]
     },
     "execution_count": 38,
     "metadata": {},
     "output_type": "execute_result"
    }
   ],
   "source": [
    "from sklearn.utils import resample\n",
    "\n",
    "# X_sparse = resample(df(df['Spending on healthy eating'] == 1), n_samples = 70, random_state=10, replace=True)\n",
    "X_sparse = df[df['Spending on healthy eating'] == 1]\n",
    "# X_sparse\n",
    "\n",
    "X_resampled = resample(X_sparse, n_samples = 70, replace = True, random_state = 70)\n",
    "print(X_resampled.shape)\n",
    "X_resampled\n",
    "df = concat([df, X_resampled], axis = 0)\n",
    "df.shape\n",
    "\n",
    "# df = new_df\n",
    "# df = df + X_resampled\n",
    "# df"
   ]
  },
  {
   "cell_type": "code",
   "execution_count": 39,
   "metadata": {},
   "outputs": [
    {
     "name": "stdout",
     "output_type": "stream",
     "text": [
      "Distribution of data after resampling of class 1:\n"
     ]
    },
    {
     "data": {
      "image/png": "[encoded data removed]",
      "text/plain": [
       "<matplotlib.figure.Figure at 0x20243e85c50>"
      ]
     },
     "metadata": {},
     "output_type": "display_data"
    }
   ],
   "source": [
    "print('Distribution of data after resampling of class 1:')\n",
    "df['Spending on healthy eating'].hist()\n",
    "plt.xlabel('Score')\n",
    "plt.ylabel('Spending on healthy eating')\n",
    "plt.grid(False)\n",
    "plt.show()"
   ]
  },
  {
   "cell_type": "code",
   "execution_count": 40,
   "metadata": {},
   "outputs": [
    {
     "name": "stdout",
     "output_type": "stream",
     "text": [
      "(1080, 150)\n",
      "Preprocessing data...\n",
      "\n",
      "Dropping rows with no label values in the target column...\n",
      "\n",
      "Dataset now contains 1078 rows and 150 columns...\n",
      "\n"
     ]
    }
   ],
   "source": [
    "print(df.shape)\n",
    "print('Preprocessing data...\\n')\n",
    "# Fill mean for numerical cols        \n",
    "for each_df in df:\n",
    "#     print(X[each_x].dtypes)\n",
    "\n",
    "    if df[each_df].dtypes != 'object' and each_df != 'Spending on healthy eating':\n",
    "        df[each_df].fillna(df[each_df].mean(), inplace=True)\n",
    "# print('\\n\\n\\n\\n')        \n",
    "# print(df.isnull().sum())\n",
    "\n",
    "# Fill mode for the categorical data cols:\n",
    "for each_df1 in df:\n",
    "    if df[each_df1].dtypes == 'object':\n",
    "        df[each_df1].fillna(statistics.mode(df[each_df1]), inplace = True)\n",
    "# print('\\n\\n\\n\\n')        \n",
    "# print(df.isnull().sum()) \n",
    "print('Dropping rows with no label values in the target column...\\n')\n",
    "df.dropna(inplace = True)\n",
    "# df.describe()\n",
    "df.reset_index(drop = True, inplace = True)\n",
    "print('Dataset now contains %d rows and %d columns...\\n' %(df.shape[0], df.shape[1]))\n",
    "\n",
    "\n"
   ]
  },
  {
   "cell_type": "code",
   "execution_count": 41,
   "metadata": {},
   "outputs": [
    {
     "name": "stdout",
     "output_type": "stream",
     "text": [
      "Preparing input features and output labels...\n"
     ]
    }
   ],
   "source": [
    "print('Preparing input features and output labels...')\n",
    "X = df.drop(['Spending on healthy eating'], axis = 1)\n",
    "# print(X.shape)\n",
    "Y = df['Spending on healthy eating']\n",
    "# print(X.shape, Y.shape)\n",
    "\n",
    "column_types = X.columns\n",
    "# print(column_types)\n",
    "le = LabelEncoder()\n",
    "for index, col in enumerate(column_types):\n",
    "    \n",
    "    if X[col].dtypes == 'object':\n",
    "        le.fit(X[col])\n",
    "#         print(le.classes_)\n",
    "        X[col] = le.transform(X[col])\n",
    "#         print(X[col])\n",
    "#         print('*********')\n",
    "\n",
    "# print(X.isnull().sum().sum())\n",
    "X = X.round()\n",
    "Y = Y.round()\n"
   ]
  },
  {
   "cell_type": "code",
   "execution_count": 42,
   "metadata": {
    "scrolled": true
   },
   "outputs": [
    {
     "name": "stdout",
     "output_type": "stream",
     "text": [
      "(1078, 150)\n"
     ]
    }
   ],
   "source": [
    "print(df.shape)"
   ]
  },
  {
   "cell_type": "code",
   "execution_count": 43,
   "metadata": {
    "scrolled": true
   },
   "outputs": [
    {
     "name": "stdout",
     "output_type": "stream",
     "text": [
      "Music                         0\n",
      "Slow songs or fast songs      0\n",
      "Dance                         0\n",
      "Folk                          0\n",
      "Country                       0\n",
      "Classical music               0\n",
      "Musical                       0\n",
      "Pop                           0\n",
      "Rock                          0\n",
      "Metal or Hardrock             0\n",
      "Punk                          0\n",
      "Hiphop, Rap                   0\n",
      "Reggae, Ska                   0\n",
      "Swing, Jazz                   0\n",
      "Rock n roll                   0\n",
      "Alternative                   0\n",
      "Latino                        0\n",
      "Techno, Trance                0\n",
      "Opera                         0\n",
      "Movies                        0\n",
      "Horror                        0\n",
      "Thriller                      0\n",
      "Comedy                        0\n",
      "Romantic                      0\n",
      "Sci-fi                        0\n",
      "War                           0\n",
      "Fantasy/Fairy tales           0\n",
      "Animated                      0\n",
      "Documentary                   0\n",
      "Western                       0\n",
      "                             ..\n",
      "Public speaking               0\n",
      "Unpopularity                  0\n",
      "Life struggles                0\n",
      "Happiness in life             0\n",
      "Energy levels                 0\n",
      "Small - big dogs              0\n",
      "Personality                   0\n",
      "Finding lost valuables        0\n",
      "Getting up                    0\n",
      "Interests or hobbies          0\n",
      "Parents' advice               0\n",
      "Questionnaires or polls       0\n",
      "Internet usage                0\n",
      "Finances                      0\n",
      "Shopping centres              0\n",
      "Branded clothing              0\n",
      "Entertainment spending        0\n",
      "Spending on looks             0\n",
      "Spending on gadgets           0\n",
      "Spending on healthy eating    0\n",
      "Age                           0\n",
      "Height                        0\n",
      "Weight                        0\n",
      "Number of siblings            0\n",
      "Gender                        0\n",
      "Left - right handed           0\n",
      "Education                     0\n",
      "Only child                    0\n",
      "Village - town                0\n",
      "House - block of flats        0\n",
      "Length: 150, dtype: int64\n"
     ]
    }
   ],
   "source": [
    "# Fill mean for numerical cols        \n",
    "for each_df in df:\n",
    "#     print(X[each_x].dtypes)\n",
    "\n",
    "    if df[each_df].dtypes != 'object' and each_df != 'Spending on healthy eating':\n",
    "        df[each_df].fillna(df[each_df].mean(), inplace=True)\n",
    "# print('\\n\\n\\n\\n')        \n",
    "print(df.isnull().sum())"
   ]
  },
  {
   "cell_type": "code",
   "execution_count": 44,
   "metadata": {
    "scrolled": true
   },
   "outputs": [
    {
     "name": "stdout",
     "output_type": "stream",
     "text": [
      "Music                         0\n",
      "Slow songs or fast songs      0\n",
      "Dance                         0\n",
      "Folk                          0\n",
      "Country                       0\n",
      "Classical music               0\n",
      "Musical                       0\n",
      "Pop                           0\n",
      "Rock                          0\n",
      "Metal or Hardrock             0\n",
      "Punk                          0\n",
      "Hiphop, Rap                   0\n",
      "Reggae, Ska                   0\n",
      "Swing, Jazz                   0\n",
      "Rock n roll                   0\n",
      "Alternative                   0\n",
      "Latino                        0\n",
      "Techno, Trance                0\n",
      "Opera                         0\n",
      "Movies                        0\n",
      "Horror                        0\n",
      "Thriller                      0\n",
      "Comedy                        0\n",
      "Romantic                      0\n",
      "Sci-fi                        0\n",
      "War                           0\n",
      "Fantasy/Fairy tales           0\n",
      "Animated                      0\n",
      "Documentary                   0\n",
      "Western                       0\n",
      "                             ..\n",
      "Public speaking               0\n",
      "Unpopularity                  0\n",
      "Life struggles                0\n",
      "Happiness in life             0\n",
      "Energy levels                 0\n",
      "Small - big dogs              0\n",
      "Personality                   0\n",
      "Finding lost valuables        0\n",
      "Getting up                    0\n",
      "Interests or hobbies          0\n",
      "Parents' advice               0\n",
      "Questionnaires or polls       0\n",
      "Internet usage                0\n",
      "Finances                      0\n",
      "Shopping centres              0\n",
      "Branded clothing              0\n",
      "Entertainment spending        0\n",
      "Spending on looks             0\n",
      "Spending on gadgets           0\n",
      "Spending on healthy eating    0\n",
      "Age                           0\n",
      "Height                        0\n",
      "Weight                        0\n",
      "Number of siblings            0\n",
      "Gender                        0\n",
      "Left - right handed           0\n",
      "Education                     0\n",
      "Only child                    0\n",
      "Village - town                0\n",
      "House - block of flats        0\n",
      "Length: 150, dtype: int64\n"
     ]
    }
   ],
   "source": [
    "import statistics\n",
    "# Fill mode for the categorical data cols:\n",
    "for each_df1 in df:\n",
    "    if df[each_df1].dtypes == 'object':\n",
    "        df[each_df1].fillna(statistics.mode(df[each_df1]), inplace = True)\n",
    "# print('\\n\\n\\n\\n')        \n",
    "print(df.isnull().sum())        "
   ]
  },
  {
   "cell_type": "code",
   "execution_count": 45,
   "metadata": {
    "collapsed": true
   },
   "outputs": [],
   "source": [
    "df.dropna(inplace = True)\n",
    "# df.describe()\n",
    "df.reset_index(drop = True, inplace = True)\n"
   ]
  },
  {
   "cell_type": "code",
   "execution_count": 46,
   "metadata": {},
   "outputs": [
    {
     "data": {
      "text/html": [
       "<div>\n",
       "<style>\n",
       "    .dataframe thead tr:only-child th {\n",
       "        text-align: right;\n",
       "    }\n",
       "\n",
       "    .dataframe thead th {\n",
       "        text-align: left;\n",
       "    }\n",
       "\n",
       "    .dataframe tbody tr th {\n",
       "        vertical-align: top;\n",
       "    }\n",
       "</style>\n",
       "<table border=\"1\" class=\"dataframe\">\n",
       "  <thead>\n",
       "    <tr style=\"text-align: right;\">\n",
       "      <th></th>\n",
       "      <th>Music</th>\n",
       "      <th>Slow songs or fast songs</th>\n",
       "      <th>Dance</th>\n",
       "      <th>Folk</th>\n",
       "      <th>Country</th>\n",
       "      <th>Classical music</th>\n",
       "      <th>Musical</th>\n",
       "      <th>Pop</th>\n",
       "      <th>Rock</th>\n",
       "      <th>Metal or Hardrock</th>\n",
       "      <th>...</th>\n",
       "      <th>Shopping centres</th>\n",
       "      <th>Branded clothing</th>\n",
       "      <th>Entertainment spending</th>\n",
       "      <th>Spending on looks</th>\n",
       "      <th>Spending on gadgets</th>\n",
       "      <th>Spending on healthy eating</th>\n",
       "      <th>Age</th>\n",
       "      <th>Height</th>\n",
       "      <th>Weight</th>\n",
       "      <th>Number of siblings</th>\n",
       "    </tr>\n",
       "  </thead>\n",
       "  <tbody>\n",
       "    <tr>\n",
       "      <th>count</th>\n",
       "      <td>1078.000000</td>\n",
       "      <td>1078.000000</td>\n",
       "      <td>1078.000000</td>\n",
       "      <td>1078.000000</td>\n",
       "      <td>1078.000000</td>\n",
       "      <td>1078.000000</td>\n",
       "      <td>1078.000000</td>\n",
       "      <td>1078.000000</td>\n",
       "      <td>1078.000000</td>\n",
       "      <td>1078.000000</td>\n",
       "      <td>...</td>\n",
       "      <td>1078.000000</td>\n",
       "      <td>1078.000000</td>\n",
       "      <td>1078.000000</td>\n",
       "      <td>1078.000000</td>\n",
       "      <td>1078.000000</td>\n",
       "      <td>1078.000000</td>\n",
       "      <td>1078.000000</td>\n",
       "      <td>1078.000000</td>\n",
       "      <td>1078.000000</td>\n",
       "      <td>1078.000000</td>\n",
       "    </tr>\n",
       "    <tr>\n",
       "      <th>mean</th>\n",
       "      <td>4.724140</td>\n",
       "      <td>3.335501</td>\n",
       "      <td>3.110293</td>\n",
       "      <td>2.260513</td>\n",
       "      <td>2.111022</td>\n",
       "      <td>2.928118</td>\n",
       "      <td>2.725841</td>\n",
       "      <td>3.469661</td>\n",
       "      <td>3.746282</td>\n",
       "      <td>2.372104</td>\n",
       "      <td>...</td>\n",
       "      <td>3.188659</td>\n",
       "      <td>3.031600</td>\n",
       "      <td>3.181400</td>\n",
       "      <td>3.055814</td>\n",
       "      <td>2.824675</td>\n",
       "      <td>3.391466</td>\n",
       "      <td>20.383761</td>\n",
       "      <td>173.493317</td>\n",
       "      <td>66.365767</td>\n",
       "      <td>1.310631</td>\n",
       "    </tr>\n",
       "    <tr>\n",
       "      <th>std</th>\n",
       "      <td>0.682957</td>\n",
       "      <td>0.850956</td>\n",
       "      <td>1.170270</td>\n",
       "      <td>1.129629</td>\n",
       "      <td>1.071185</td>\n",
       "      <td>1.254690</td>\n",
       "      <td>1.256412</td>\n",
       "      <td>1.159020</td>\n",
       "      <td>1.195389</td>\n",
       "      <td>1.372621</td>\n",
       "      <td>...</td>\n",
       "      <td>1.345822</td>\n",
       "      <td>1.321533</td>\n",
       "      <td>1.212603</td>\n",
       "      <td>1.221386</td>\n",
       "      <td>1.302046</td>\n",
       "      <td>1.231286</td>\n",
       "      <td>2.805565</td>\n",
       "      <td>9.801344</td>\n",
       "      <td>13.510438</td>\n",
       "      <td>1.007658</td>\n",
       "    </tr>\n",
       "    <tr>\n",
       "      <th>min</th>\n",
       "      <td>1.000000</td>\n",
       "      <td>1.000000</td>\n",
       "      <td>1.000000</td>\n",
       "      <td>1.000000</td>\n",
       "      <td>1.000000</td>\n",
       "      <td>1.000000</td>\n",
       "      <td>1.000000</td>\n",
       "      <td>1.000000</td>\n",
       "      <td>1.000000</td>\n",
       "      <td>1.000000</td>\n",
       "      <td>...</td>\n",
       "      <td>1.000000</td>\n",
       "      <td>1.000000</td>\n",
       "      <td>1.000000</td>\n",
       "      <td>1.000000</td>\n",
       "      <td>1.000000</td>\n",
       "      <td>1.000000</td>\n",
       "      <td>15.000000</td>\n",
       "      <td>62.000000</td>\n",
       "      <td>41.000000</td>\n",
       "      <td>0.000000</td>\n",
       "    </tr>\n",
       "    <tr>\n",
       "      <th>25%</th>\n",
       "      <td>5.000000</td>\n",
       "      <td>3.000000</td>\n",
       "      <td>2.000000</td>\n",
       "      <td>1.000000</td>\n",
       "      <td>1.000000</td>\n",
       "      <td>2.000000</td>\n",
       "      <td>2.000000</td>\n",
       "      <td>3.000000</td>\n",
       "      <td>3.000000</td>\n",
       "      <td>1.000000</td>\n",
       "      <td>...</td>\n",
       "      <td>2.000000</td>\n",
       "      <td>2.000000</td>\n",
       "      <td>2.000000</td>\n",
       "      <td>2.000000</td>\n",
       "      <td>2.000000</td>\n",
       "      <td>3.000000</td>\n",
       "      <td>19.000000</td>\n",
       "      <td>167.000000</td>\n",
       "      <td>56.000000</td>\n",
       "      <td>1.000000</td>\n",
       "    </tr>\n",
       "    <tr>\n",
       "      <th>50%</th>\n",
       "      <td>5.000000</td>\n",
       "      <td>3.000000</td>\n",
       "      <td>3.000000</td>\n",
       "      <td>2.000000</td>\n",
       "      <td>2.000000</td>\n",
       "      <td>3.000000</td>\n",
       "      <td>3.000000</td>\n",
       "      <td>4.000000</td>\n",
       "      <td>4.000000</td>\n",
       "      <td>2.000000</td>\n",
       "      <td>...</td>\n",
       "      <td>3.000000</td>\n",
       "      <td>3.000000</td>\n",
       "      <td>3.000000</td>\n",
       "      <td>3.000000</td>\n",
       "      <td>3.000000</td>\n",
       "      <td>4.000000</td>\n",
       "      <td>20.000000</td>\n",
       "      <td>173.000000</td>\n",
       "      <td>65.000000</td>\n",
       "      <td>1.000000</td>\n",
       "    </tr>\n",
       "    <tr>\n",
       "      <th>75%</th>\n",
       "      <td>5.000000</td>\n",
       "      <td>4.000000</td>\n",
       "      <td>4.000000</td>\n",
       "      <td>3.000000</td>\n",
       "      <td>3.000000</td>\n",
       "      <td>4.000000</td>\n",
       "      <td>4.000000</td>\n",
       "      <td>4.000000</td>\n",
       "      <td>5.000000</td>\n",
       "      <td>3.000000</td>\n",
       "      <td>...</td>\n",
       "      <td>4.000000</td>\n",
       "      <td>4.000000</td>\n",
       "      <td>4.000000</td>\n",
       "      <td>4.000000</td>\n",
       "      <td>4.000000</td>\n",
       "      <td>4.000000</td>\n",
       "      <td>21.000000</td>\n",
       "      <td>180.000000</td>\n",
       "      <td>75.000000</td>\n",
       "      <td>2.000000</td>\n",
       "    </tr>\n",
       "    <tr>\n",
       "      <th>max</th>\n",
       "      <td>5.000000</td>\n",
       "      <td>5.000000</td>\n",
       "      <td>5.000000</td>\n",
       "      <td>5.000000</td>\n",
       "      <td>5.000000</td>\n",
       "      <td>5.000000</td>\n",
       "      <td>5.000000</td>\n",
       "      <td>5.000000</td>\n",
       "      <td>5.000000</td>\n",
       "      <td>5.000000</td>\n",
       "      <td>...</td>\n",
       "      <td>5.000000</td>\n",
       "      <td>5.000000</td>\n",
       "      <td>5.000000</td>\n",
       "      <td>5.000000</td>\n",
       "      <td>5.000000</td>\n",
       "      <td>5.000000</td>\n",
       "      <td>30.000000</td>\n",
       "      <td>203.000000</td>\n",
       "      <td>165.000000</td>\n",
       "      <td>10.000000</td>\n",
       "    </tr>\n",
       "  </tbody>\n",
       "</table>\n",
       "<p>8 rows × 139 columns</p>\n",
       "</div>"
      ],
      "text/plain": [
       "             Music  Slow songs or fast songs        Dance         Folk  \\\n",
       "count  1078.000000               1078.000000  1078.000000  1078.000000   \n",
       "mean      4.724140                  3.335501     3.110293     2.260513   \n",
       "std       0.682957                  0.850956     1.170270     1.129629   \n",
       "min       1.000000                  1.000000     1.000000     1.000000   \n",
       "25%       5.000000                  3.000000     2.000000     1.000000   \n",
       "50%       5.000000                  3.000000     3.000000     2.000000   \n",
       "75%       5.000000                  4.000000     4.000000     3.000000   \n",
       "max       5.000000                  5.000000     5.000000     5.000000   \n",
       "\n",
       "           Country  Classical music      Musical          Pop         Rock  \\\n",
       "count  1078.000000      1078.000000  1078.000000  1078.000000  1078.000000   \n",
       "mean      2.111022         2.928118     2.725841     3.469661     3.746282   \n",
       "std       1.071185         1.254690     1.256412     1.159020     1.195389   \n",
       "min       1.000000         1.000000     1.000000     1.000000     1.000000   \n",
       "25%       1.000000         2.000000     2.000000     3.000000     3.000000   \n",
       "50%       2.000000         3.000000     3.000000     4.000000     4.000000   \n",
       "75%       3.000000         4.000000     4.000000     4.000000     5.000000   \n",
       "max       5.000000         5.000000     5.000000     5.000000     5.000000   \n",
       "\n",
       "       Metal or Hardrock         ...          Shopping centres  \\\n",
       "count        1078.000000         ...               1078.000000   \n",
       "mean            2.372104         ...                  3.188659   \n",
       "std             1.372621         ...                  1.345822   \n",
       "min             1.000000         ...                  1.000000   \n",
       "25%             1.000000         ...                  2.000000   \n",
       "50%             2.000000         ...                  3.000000   \n",
       "75%             3.000000         ...                  4.000000   \n",
       "max             5.000000         ...                  5.000000   \n",
       "\n",
       "       Branded clothing  Entertainment spending  Spending on looks  \\\n",
       "count       1078.000000             1078.000000        1078.000000   \n",
       "mean           3.031600                3.181400           3.055814   \n",
       "std            1.321533                1.212603           1.221386   \n",
       "min            1.000000                1.000000           1.000000   \n",
       "25%            2.000000                2.000000           2.000000   \n",
       "50%            3.000000                3.000000           3.000000   \n",
       "75%            4.000000                4.000000           4.000000   \n",
       "max            5.000000                5.000000           5.000000   \n",
       "\n",
       "       Spending on gadgets  Spending on healthy eating          Age  \\\n",
       "count          1078.000000                 1078.000000  1078.000000   \n",
       "mean              2.824675                    3.391466    20.383761   \n",
       "std               1.302046                    1.231286     2.805565   \n",
       "min               1.000000                    1.000000    15.000000   \n",
       "25%               2.000000                    3.000000    19.000000   \n",
       "50%               3.000000                    4.000000    20.000000   \n",
       "75%               4.000000                    4.000000    21.000000   \n",
       "max               5.000000                    5.000000    30.000000   \n",
       "\n",
       "            Height       Weight  Number of siblings  \n",
       "count  1078.000000  1078.000000         1078.000000  \n",
       "mean    173.493317    66.365767            1.310631  \n",
       "std       9.801344    13.510438            1.007658  \n",
       "min      62.000000    41.000000            0.000000  \n",
       "25%     167.000000    56.000000            1.000000  \n",
       "50%     173.000000    65.000000            1.000000  \n",
       "75%     180.000000    75.000000            2.000000  \n",
       "max     203.000000   165.000000           10.000000  \n",
       "\n",
       "[8 rows x 139 columns]"
      ]
     },
     "execution_count": 46,
     "metadata": {},
     "output_type": "execute_result"
    }
   ],
   "source": [
    "df.describe()"
   ]
  },
  {
   "cell_type": "code",
   "execution_count": 47,
   "metadata": {},
   "outputs": [
    {
     "name": "stdout",
     "output_type": "stream",
     "text": [
      "(1078, 150)\n"
     ]
    }
   ],
   "source": [
    "print(df.shape)"
   ]
  },
  {
   "cell_type": "code",
   "execution_count": 48,
   "metadata": {},
   "outputs": [
    {
     "name": "stdout",
     "output_type": "stream",
     "text": [
      "(1078, 149)\n",
      "(1078, 149) (1078,)\n"
     ]
    }
   ],
   "source": [
    "X = df.drop(['Spending on healthy eating'], axis = 1)\n",
    "print(X.shape)\n",
    "Y = df['Spending on healthy eating']\n",
    "print(X.shape, Y.shape)\n"
   ]
  },
  {
   "cell_type": "code",
   "execution_count": 49,
   "metadata": {
    "collapsed": true
   },
   "outputs": [],
   "source": [
    "Y = df['Spending on healthy eating']"
   ]
  },
  {
   "cell_type": "code",
   "execution_count": 50,
   "metadata": {},
   "outputs": [
    {
     "data": {
      "text/plain": [
       "((1078, 149), (1078,))"
      ]
     },
     "execution_count": 50,
     "metadata": {},
     "output_type": "execute_result"
    }
   ],
   "source": [
    "X.shape, Y.shape"
   ]
  },
  {
   "cell_type": "code",
   "execution_count": 51,
   "metadata": {},
   "outputs": [
    {
     "data": {
      "text/plain": [
       "Index(['Music', 'Slow songs or fast songs', 'Dance', 'Folk', 'Country',\n",
       "       'Classical music', 'Musical', 'Pop', 'Rock', 'Metal or Hardrock',\n",
       "       ...\n",
       "       'Age', 'Height', 'Weight', 'Number of siblings', 'Gender',\n",
       "       'Left - right handed', 'Education', 'Only child', 'Village - town',\n",
       "       'House - block of flats'],\n",
       "      dtype='object', length=149)"
      ]
     },
     "execution_count": 51,
     "metadata": {},
     "output_type": "execute_result"
    }
   ],
   "source": [
    "column_types = X.columns\n",
    "column_types\n"
   ]
  },
  {
   "cell_type": "code",
   "execution_count": 52,
   "metadata": {},
   "outputs": [
    {
     "name": "stdout",
     "output_type": "stream",
     "text": [
      "['current smoker' 'former smoker' 'never smoked' 'tried smoking']\n",
      "['drink a lot' 'never' 'social drinker']\n",
      "['i am always on time' 'i am often early' 'i am often running late']\n",
      "['everytime it suits me' 'never' 'only to avoid hurting someone'\n",
      " 'sometimes']\n",
      "['few hours a day' 'less than an hour a day' 'most of the day'\n",
      " 'no time at all']\n",
      "['female' 'male']\n",
      "['left handed' 'right handed']\n",
      "['college/bachelor degree' 'currently a primary school pupil'\n",
      " 'doctorate degree' 'masters degree' 'primary school' 'secondary school']\n",
      "['no' 'yes']\n",
      "['city' 'village']\n",
      "['block of flats' 'house/bungalow']\n",
      "Checking for any empty values in the feature set...\n",
      "0\n"
     ]
    }
   ],
   "source": [
    "le = LabelEncoder()\n",
    "for index, col in enumerate(column_types):\n",
    "    \n",
    "    if X[col].dtypes == 'object':\n",
    "        le.fit(X[col])\n",
    "        print(le.classes_)\n",
    "        X[col] = le.transform(X[col])\n",
    "#         print(X[col])\n",
    "#         print('*********')\n",
    "print('Checking for any empty values in the feature set...')\n",
    "print(X.isnull().sum().sum())"
   ]
  },
  {
   "cell_type": "code",
   "execution_count": 53,
   "metadata": {
    "scrolled": true
   },
   "outputs": [
    {
     "data": {
      "text/plain": [
       "dtype('float64')"
      ]
     },
     "execution_count": 53,
     "metadata": {},
     "output_type": "execute_result"
    }
   ],
   "source": [
    "Y.dtypes\n",
    "# print(Y)\n"
   ]
  },
  {
   "cell_type": "code",
   "execution_count": 55,
   "metadata": {
    "scrolled": true
   },
   "outputs": [
    {
     "data": {
      "text/html": [
       "<div>\n",
       "<style>\n",
       "    .dataframe thead tr:only-child th {\n",
       "        text-align: right;\n",
       "    }\n",
       "\n",
       "    .dataframe thead th {\n",
       "        text-align: left;\n",
       "    }\n",
       "\n",
       "    .dataframe tbody tr th {\n",
       "        vertical-align: top;\n",
       "    }\n",
       "</style>\n",
       "<table border=\"1\" class=\"dataframe\">\n",
       "  <thead>\n",
       "    <tr style=\"text-align: right;\">\n",
       "      <th></th>\n",
       "      <th>Music</th>\n",
       "      <th>Slow songs or fast songs</th>\n",
       "      <th>Dance</th>\n",
       "      <th>Folk</th>\n",
       "      <th>Country</th>\n",
       "      <th>Classical music</th>\n",
       "      <th>Musical</th>\n",
       "      <th>Pop</th>\n",
       "      <th>Rock</th>\n",
       "      <th>Metal or Hardrock</th>\n",
       "      <th>...</th>\n",
       "      <th>Age</th>\n",
       "      <th>Height</th>\n",
       "      <th>Weight</th>\n",
       "      <th>Number of siblings</th>\n",
       "      <th>Gender</th>\n",
       "      <th>Left - right handed</th>\n",
       "      <th>Education</th>\n",
       "      <th>Only child</th>\n",
       "      <th>Village - town</th>\n",
       "      <th>House - block of flats</th>\n",
       "    </tr>\n",
       "  </thead>\n",
       "  <tbody>\n",
       "    <tr>\n",
       "      <th>0</th>\n",
       "      <td>5.0</td>\n",
       "      <td>3.0</td>\n",
       "      <td>2.0</td>\n",
       "      <td>1.0</td>\n",
       "      <td>2.0</td>\n",
       "      <td>2.0</td>\n",
       "      <td>1.0</td>\n",
       "      <td>5.0</td>\n",
       "      <td>5.0</td>\n",
       "      <td>1.0</td>\n",
       "      <td>...</td>\n",
       "      <td>20.0</td>\n",
       "      <td>163.0</td>\n",
       "      <td>48.0</td>\n",
       "      <td>1.0</td>\n",
       "      <td>0</td>\n",
       "      <td>1</td>\n",
       "      <td>0</td>\n",
       "      <td>0</td>\n",
       "      <td>1</td>\n",
       "      <td>0</td>\n",
       "    </tr>\n",
       "    <tr>\n",
       "      <th>1</th>\n",
       "      <td>4.0</td>\n",
       "      <td>4.0</td>\n",
       "      <td>2.0</td>\n",
       "      <td>1.0</td>\n",
       "      <td>1.0</td>\n",
       "      <td>1.0</td>\n",
       "      <td>2.0</td>\n",
       "      <td>3.0</td>\n",
       "      <td>5.0</td>\n",
       "      <td>4.0</td>\n",
       "      <td>...</td>\n",
       "      <td>19.0</td>\n",
       "      <td>163.0</td>\n",
       "      <td>58.0</td>\n",
       "      <td>2.0</td>\n",
       "      <td>0</td>\n",
       "      <td>1</td>\n",
       "      <td>0</td>\n",
       "      <td>0</td>\n",
       "      <td>0</td>\n",
       "      <td>0</td>\n",
       "    </tr>\n",
       "    <tr>\n",
       "      <th>2</th>\n",
       "      <td>5.0</td>\n",
       "      <td>5.0</td>\n",
       "      <td>2.0</td>\n",
       "      <td>2.0</td>\n",
       "      <td>3.0</td>\n",
       "      <td>4.0</td>\n",
       "      <td>5.0</td>\n",
       "      <td>3.0</td>\n",
       "      <td>5.0</td>\n",
       "      <td>3.0</td>\n",
       "      <td>...</td>\n",
       "      <td>20.0</td>\n",
       "      <td>176.0</td>\n",
       "      <td>67.0</td>\n",
       "      <td>2.0</td>\n",
       "      <td>0</td>\n",
       "      <td>1</td>\n",
       "      <td>5</td>\n",
       "      <td>0</td>\n",
       "      <td>0</td>\n",
       "      <td>0</td>\n",
       "    </tr>\n",
       "    <tr>\n",
       "      <th>3</th>\n",
       "      <td>5.0</td>\n",
       "      <td>3.0</td>\n",
       "      <td>2.0</td>\n",
       "      <td>1.0</td>\n",
       "      <td>1.0</td>\n",
       "      <td>1.0</td>\n",
       "      <td>1.0</td>\n",
       "      <td>2.0</td>\n",
       "      <td>2.0</td>\n",
       "      <td>1.0</td>\n",
       "      <td>...</td>\n",
       "      <td>22.0</td>\n",
       "      <td>172.0</td>\n",
       "      <td>59.0</td>\n",
       "      <td>1.0</td>\n",
       "      <td>0</td>\n",
       "      <td>1</td>\n",
       "      <td>0</td>\n",
       "      <td>1</td>\n",
       "      <td>0</td>\n",
       "      <td>1</td>\n",
       "    </tr>\n",
       "    <tr>\n",
       "      <th>4</th>\n",
       "      <td>5.0</td>\n",
       "      <td>3.0</td>\n",
       "      <td>4.0</td>\n",
       "      <td>3.0</td>\n",
       "      <td>2.0</td>\n",
       "      <td>4.0</td>\n",
       "      <td>3.0</td>\n",
       "      <td>5.0</td>\n",
       "      <td>3.0</td>\n",
       "      <td>1.0</td>\n",
       "      <td>...</td>\n",
       "      <td>20.0</td>\n",
       "      <td>170.0</td>\n",
       "      <td>59.0</td>\n",
       "      <td>1.0</td>\n",
       "      <td>0</td>\n",
       "      <td>1</td>\n",
       "      <td>5</td>\n",
       "      <td>0</td>\n",
       "      <td>1</td>\n",
       "      <td>1</td>\n",
       "    </tr>\n",
       "  </tbody>\n",
       "</table>\n",
       "<p>5 rows × 149 columns</p>\n",
       "</div>"
      ],
      "text/plain": [
       "   Music  Slow songs or fast songs  Dance  Folk  Country  Classical music  \\\n",
       "0    5.0                       3.0    2.0   1.0      2.0              2.0   \n",
       "1    4.0                       4.0    2.0   1.0      1.0              1.0   \n",
       "2    5.0                       5.0    2.0   2.0      3.0              4.0   \n",
       "3    5.0                       3.0    2.0   1.0      1.0              1.0   \n",
       "4    5.0                       3.0    4.0   3.0      2.0              4.0   \n",
       "\n",
       "   Musical  Pop  Rock  Metal or Hardrock           ...             Age  \\\n",
       "0      1.0  5.0   5.0                1.0           ...            20.0   \n",
       "1      2.0  3.0   5.0                4.0           ...            19.0   \n",
       "2      5.0  3.0   5.0                3.0           ...            20.0   \n",
       "3      1.0  2.0   2.0                1.0           ...            22.0   \n",
       "4      3.0  5.0   3.0                1.0           ...            20.0   \n",
       "\n",
       "   Height  Weight  Number of siblings  Gender  Left - right handed  Education  \\\n",
       "0   163.0    48.0                 1.0       0                    1          0   \n",
       "1   163.0    58.0                 2.0       0                    1          0   \n",
       "2   176.0    67.0                 2.0       0                    1          5   \n",
       "3   172.0    59.0                 1.0       0                    1          0   \n",
       "4   170.0    59.0                 1.0       0                    1          5   \n",
       "\n",
       "   Only child  Village - town  House - block of flats  \n",
       "0           0               1                       0  \n",
       "1           0               0                       0  \n",
       "2           0               0                       0  \n",
       "3           1               0                       1  \n",
       "4           0               1                       1  \n",
       "\n",
       "[5 rows x 149 columns]"
      ]
     },
     "execution_count": 55,
     "metadata": {},
     "output_type": "execute_result"
    }
   ],
   "source": [
    "X = X.round()\n",
    "Y = Y.round()\n",
    "X.head()"
   ]
  },
  {
   "cell_type": "markdown",
   "metadata": {},
   "source": [
    "## Establishing Baseline Model \n",
    "The below cell uses Logistic Regression and considers all the fields of the available inputs as the feature set (excluding the 'Spending on healthy eating' field). "
   ]
  },
  {
   "cell_type": "code",
   "execution_count": 56,
   "metadata": {},
   "outputs": [
    {
     "name": "stdout",
     "output_type": "stream",
     "text": [
      "*** BASELINE MODEL ***\n",
      "\n",
      "Using Logistic Regression, not selecting any features...\n",
      "\n",
      "Validation Accuracy\n",
      "0.3333333333333333\n",
      "Test Accuracy\n",
      "0.39814814814814814\n"
     ]
    }
   ],
   "source": [
    "print('*** BASELINE MODEL ***\\n')\n",
    "print('Using Logistic Regression, not selecting any features...\\n')\n",
    "\n",
    "from sklearn.linear_model import LogisticRegression\n",
    "\n",
    "log_reg = LogisticRegression()\n",
    "\n",
    "X_train, X_test, Y_train, Y_test = train_test_split(X.round(), Y.round(), test_size = 0.2)\n",
    "X_train, X_val, Y_train, Y_val = train_test_split(X_train.round(), Y_train.round(), test_size = 0.1)\n",
    "log_reg.fit(X_train, Y_train)\n",
    "log_reg_pred = log_reg.predict(X_val)\n",
    "print('Validation Accuracy')\n",
    "print(np.mean(log_reg_pred == Y_val))\n",
    "\n",
    "log_reg_pred = log_reg.predict(X_test)\n",
    "print('Test Accuracy')\n",
    "print(np.mean(log_reg_pred == Y_test))\n"
   ]
  },
  {
   "cell_type": "markdown",
   "metadata": {},
   "source": [
    "An accuracy of 28.71% is achieved with all fields as features, i.e. no feature engineering. \n",
    "In the below cell, I am finding how correlated each input feature is related to the class label column. \n",
    "** Played around with the number of the features (highly correlated) and the effect it has on the accuracy. I found 18 to be an optimum value. A value less than 9 led to classes 1 and 2 being highly under-represented, while number of features more than 22 did not improve the accuracy. \n",
    "\n",
    "The correlated features list are then passed to Linear SVM, Random Forest Classifier and Logistic Regression Models. \n"
   ]
  },
  {
   "cell_type": "code",
   "execution_count": 58,
   "metadata": {
    "scrolled": true
   },
   "outputs": [
    {
     "name": "stdout",
     "output_type": "stream",
     "text": [
      "\n",
      "\n",
      "*** Feature Selection and Applying ML Models ***\n",
      "\n"
     ]
    },
    {
     "data": {
      "text/html": [
       "<div>\n",
       "<style>\n",
       "    .dataframe thead tr:only-child th {\n",
       "        text-align: right;\n",
       "    }\n",
       "\n",
       "    .dataframe thead th {\n",
       "        text-align: left;\n",
       "    }\n",
       "\n",
       "    .dataframe tbody tr th {\n",
       "        vertical-align: top;\n",
       "    }\n",
       "</style>\n",
       "<table border=\"1\" class=\"dataframe\">\n",
       "  <thead>\n",
       "    <tr style=\"text-align: right;\">\n",
       "      <th></th>\n",
       "      <th>Healthy eating</th>\n",
       "      <th>Spending on looks</th>\n",
       "      <th>Spending on gadgets</th>\n",
       "      <th>Health</th>\n",
       "      <th>Happiness in life</th>\n",
       "      <th>Knowing the right people</th>\n",
       "      <th>Interests or hobbies</th>\n",
       "      <th>Giving</th>\n",
       "      <th>Energy levels</th>\n",
       "      <th>Personality</th>\n",
       "      <th>...</th>\n",
       "      <th>Workaholism</th>\n",
       "      <th>Foreign languages</th>\n",
       "      <th>Psychology</th>\n",
       "      <th>Adrenaline sports</th>\n",
       "      <th>Geography</th>\n",
       "      <th>Hiphop, Rap</th>\n",
       "      <th>Dancing</th>\n",
       "      <th>History</th>\n",
       "      <th>Theatre</th>\n",
       "      <th>Socializing</th>\n",
       "    </tr>\n",
       "  </thead>\n",
       "  <tbody>\n",
       "    <tr>\n",
       "      <th>0</th>\n",
       "      <td>4.0</td>\n",
       "      <td>3.0</td>\n",
       "      <td>1</td>\n",
       "      <td>1.0</td>\n",
       "      <td>4.0</td>\n",
       "      <td>3.0</td>\n",
       "      <td>3.0</td>\n",
       "      <td>4.0</td>\n",
       "      <td>5.0</td>\n",
       "      <td>4.0</td>\n",
       "      <td>...</td>\n",
       "      <td>4.0</td>\n",
       "      <td>5.0</td>\n",
       "      <td>5.0</td>\n",
       "      <td>4.0</td>\n",
       "      <td>3.0</td>\n",
       "      <td>1.0</td>\n",
       "      <td>3.0</td>\n",
       "      <td>1.0</td>\n",
       "      <td>2.0</td>\n",
       "      <td>3.0</td>\n",
       "    </tr>\n",
       "    <tr>\n",
       "      <th>1</th>\n",
       "      <td>3.0</td>\n",
       "      <td>2.0</td>\n",
       "      <td>5</td>\n",
       "      <td>4.0</td>\n",
       "      <td>4.0</td>\n",
       "      <td>4.0</td>\n",
       "      <td>3.0</td>\n",
       "      <td>2.0</td>\n",
       "      <td>3.0</td>\n",
       "      <td>3.0</td>\n",
       "      <td>...</td>\n",
       "      <td>5.0</td>\n",
       "      <td>5.0</td>\n",
       "      <td>3.0</td>\n",
       "      <td>2.0</td>\n",
       "      <td>4.0</td>\n",
       "      <td>1.0</td>\n",
       "      <td>1.0</td>\n",
       "      <td>1.0</td>\n",
       "      <td>2.0</td>\n",
       "      <td>4.0</td>\n",
       "    </tr>\n",
       "    <tr>\n",
       "      <th>2</th>\n",
       "      <td>3.0</td>\n",
       "      <td>3.0</td>\n",
       "      <td>4</td>\n",
       "      <td>2.0</td>\n",
       "      <td>4.0</td>\n",
       "      <td>3.0</td>\n",
       "      <td>5.0</td>\n",
       "      <td>5.0</td>\n",
       "      <td>4.0</td>\n",
       "      <td>3.0</td>\n",
       "      <td>...</td>\n",
       "      <td>3.0</td>\n",
       "      <td>5.0</td>\n",
       "      <td>2.0</td>\n",
       "      <td>5.0</td>\n",
       "      <td>2.0</td>\n",
       "      <td>1.0</td>\n",
       "      <td>5.0</td>\n",
       "      <td>1.0</td>\n",
       "      <td>5.0</td>\n",
       "      <td>5.0</td>\n",
       "    </tr>\n",
       "    <tr>\n",
       "      <th>3</th>\n",
       "      <td>3.0</td>\n",
       "      <td>4.0</td>\n",
       "      <td>4</td>\n",
       "      <td>1.0</td>\n",
       "      <td>2.0</td>\n",
       "      <td>4.0</td>\n",
       "      <td>3.0</td>\n",
       "      <td>1.0</td>\n",
       "      <td>2.0</td>\n",
       "      <td>2.0</td>\n",
       "      <td>...</td>\n",
       "      <td>5.0</td>\n",
       "      <td>4.0</td>\n",
       "      <td>4.0</td>\n",
       "      <td>1.0</td>\n",
       "      <td>4.0</td>\n",
       "      <td>2.0</td>\n",
       "      <td>1.0</td>\n",
       "      <td>4.0</td>\n",
       "      <td>1.0</td>\n",
       "      <td>1.0</td>\n",
       "    </tr>\n",
       "    <tr>\n",
       "      <th>4</th>\n",
       "      <td>4.0</td>\n",
       "      <td>3.0</td>\n",
       "      <td>2</td>\n",
       "      <td>3.0</td>\n",
       "      <td>3.0</td>\n",
       "      <td>3.0</td>\n",
       "      <td>3.0</td>\n",
       "      <td>3.0</td>\n",
       "      <td>5.0</td>\n",
       "      <td>3.0</td>\n",
       "      <td>...</td>\n",
       "      <td>3.0</td>\n",
       "      <td>3.0</td>\n",
       "      <td>2.0</td>\n",
       "      <td>2.0</td>\n",
       "      <td>2.0</td>\n",
       "      <td>5.0</td>\n",
       "      <td>1.0</td>\n",
       "      <td>3.0</td>\n",
       "      <td>2.0</td>\n",
       "      <td>3.0</td>\n",
       "    </tr>\n",
       "  </tbody>\n",
       "</table>\n",
       "<p>5 rows × 30 columns</p>\n",
       "</div>"
      ],
      "text/plain": [
       "   Healthy eating  Spending on looks  Spending on gadgets  Health  \\\n",
       "0             4.0                3.0                    1     1.0   \n",
       "1             3.0                2.0                    5     4.0   \n",
       "2             3.0                3.0                    4     2.0   \n",
       "3             3.0                4.0                    4     1.0   \n",
       "4             4.0                3.0                    2     3.0   \n",
       "\n",
       "   Happiness in life  Knowing the right people  Interests or hobbies  Giving  \\\n",
       "0                4.0                       3.0                   3.0     4.0   \n",
       "1                4.0                       4.0                   3.0     2.0   \n",
       "2                4.0                       3.0                   5.0     5.0   \n",
       "3                2.0                       4.0                   3.0     1.0   \n",
       "4                3.0                       3.0                   3.0     3.0   \n",
       "\n",
       "   Energy levels  Personality     ...       Workaholism  Foreign languages  \\\n",
       "0            5.0          4.0     ...               4.0                5.0   \n",
       "1            3.0          3.0     ...               5.0                5.0   \n",
       "2            4.0          3.0     ...               3.0                5.0   \n",
       "3            2.0          2.0     ...               5.0                4.0   \n",
       "4            5.0          3.0     ...               3.0                3.0   \n",
       "\n",
       "   Psychology  Adrenaline sports  Geography  Hiphop, Rap  Dancing  History  \\\n",
       "0         5.0                4.0        3.0          1.0      3.0      1.0   \n",
       "1         3.0                2.0        4.0          1.0      1.0      1.0   \n",
       "2         2.0                5.0        2.0          1.0      5.0      1.0   \n",
       "3         4.0                1.0        4.0          2.0      1.0      4.0   \n",
       "4         2.0                2.0        2.0          5.0      1.0      3.0   \n",
       "\n",
       "   Theatre  Socializing  \n",
       "0      2.0          3.0  \n",
       "1      2.0          4.0  \n",
       "2      5.0          5.0  \n",
       "3      1.0          1.0  \n",
       "4      2.0          3.0  \n",
       "\n",
       "[5 rows x 30 columns]"
      ]
     },
     "execution_count": 58,
     "metadata": {},
     "output_type": "execute_result"
    }
   ],
   "source": [
    "print('\\n\\n*** Feature Selection and Applying ML Models ***\\n')\n",
    "'''Feature Selection Techniques'''\n",
    "'''Finding correlation by Numpy's corrcoef '''\n",
    "\n",
    "corr_arr = {}\n",
    "for each_x in X:\n",
    "    corr_arr[each_x] = np.corrcoef(x=X[each_x], y=Y)[0,1]\n",
    "# print(corr_arr)\n",
    "sorted_corr_arr = sorted(corr_arr.items(), key=operator.itemgetter(1), reverse=True)\n",
    "type(sorted_corr_arr)\n",
    "X_corr = sorted_corr_arr[:30]\n",
    "new_X = []\n",
    "for row in range(0, len(X_corr)):\n",
    "    new_X.append(X_corr[row][0])\n",
    "new_X\n",
    "\n",
    "X_corr = X[new_X]\n",
    "X_corr.head()"
   ]
  },
  {
   "cell_type": "markdown",
   "metadata": {},
   "source": [
    "## Proposed Model \n",
    "\n",
    "\n",
    "The value of accuracy varied on each run. Linear SVM seems to outperfrom the other models I tried. "
   ]
  },
  {
   "cell_type": "code",
   "execution_count": 59,
   "metadata": {},
   "outputs": [
    {
     "name": "stdout",
     "output_type": "stream",
     "text": [
      "*** PROPOSED MODEL ***\n",
      "\n",
      "Finding & selecting highly correlated features and applying SVC (30 features)...\n",
      "\n"
     ]
    }
   ],
   "source": [
    "print('*** PROPOSED MODEL ***')\n",
    "print('\\nFinding & selecting highly correlated features and applying SVC (30 features)...\\n')\n"
   ]
  },
  {
   "cell_type": "code",
   "execution_count": 66,
   "metadata": {},
   "outputs": [
    {
     "name": "stdout",
     "output_type": "stream",
     "text": [
      "The accuracy of the model on: \n",
      "Validation Data:\n",
      "0.41379310344827586\n",
      "***\n",
      "Test Data:\n",
      "0.4675925925925926\n",
      "\n",
      "\n",
      "***\n",
      "Confusion Matrix for this model:\n",
      "             precision    recall  f1-score   support\n",
      "\n",
      "    Score 1       0.90      0.90      0.90        20\n",
      "    Score 2       0.27      0.16      0.20        19\n",
      "    Score 3       0.49      0.45      0.47        69\n",
      "    Score 4       0.42      0.54      0.47        67\n",
      "    Score 5       0.35      0.32      0.33        41\n",
      "\n",
      "avg / total       0.46      0.47      0.46       216\n",
      "\n"
     ]
    }
   ],
   "source": [
    "'''Splitting data --- Top 30 correlated features -- SVC'''\n",
    "from sklearn.metrics import classification_report\n",
    "from sklearn.svm import SVC\n",
    "\n",
    "X_train, X_test, Y_train, Y_test = train_test_split(X_corr.round(), Y.round(), test_size = 0.2)\n",
    "X_train, X_val, Y_train, Y_val = train_test_split(X_train.round(), Y_train.round(), test_size = 0.1)\n",
    "\n",
    "svc_clf = SVC(C=2, kernel = 'rbf')\n",
    "svc_clf.fit(X_train, Y_train)\n",
    "l_svc_pred_val = svc_clf.predict(X_val)\n",
    "print('The accuracy of the model on: ')\n",
    "print('Validation Data:'),\n",
    "print(np.mean(l_svc_pred_val == Y_val))\n",
    "\n",
    "print('***')\n",
    "\n",
    "# svc_clf = SVC(multi_class = 'ovr', C=2)\n",
    "svc_clf.fit(X_train, Y_train)\n",
    "l_svc_pred = svc_clf.predict(X_test)\n",
    "print('Test Data:')\n",
    "print(np.mean(l_svc_pred == Y_test))\n",
    "# print(l_svc_pred)\n",
    "print('\\n')\n",
    "\n",
    "print('***')\n",
    "\n",
    "print('Confusion Matrix for this model:')\n",
    "\n",
    "target_names = ['Score 1', 'Score 2', 'Score 3', 'Score 4', 'Score 5']\n",
    "print(classification_report(Y_test, l_svc_pred, target_names=target_names))\n"
   ]
  },
  {
   "cell_type": "code",
   "execution_count": 69,
   "metadata": {
    "scrolled": true
   },
   "outputs": [
    {
     "name": "stdout",
     "output_type": "stream",
     "text": [
      "[4. 4. 3. 5. 1. 3. 1. 3. 4. 4.]\n",
      "581     2.0\n",
      "50      4.0\n",
      "280     4.0\n",
      "341     5.0\n",
      "841     1.0\n",
      "567     4.0\n",
      "1023    1.0\n",
      "747     3.0\n",
      "248     5.0\n",
      "468     5.0\n",
      "Name: Spending on healthy eating, dtype: float64\n"
     ]
    }
   ],
   "source": [
    "'''Trying to understand what the model got wrong'''\n",
    "print(l_svc_pred_val[0:10]) \n",
    "print(Y_val[0:10])"
   ]
  },
  {
   "cell_type": "markdown",
   "metadata": {},
   "source": [
    "From the above Confusion Matrix, one can observe that all the classes have been encountered and predicted, with the class label as 4 (i.e. score 4 on 5) is the highest. "
   ]
  },
  {
   "cell_type": "code",
   "execution_count": 246,
   "metadata": {},
   "outputs": [
    {
     "name": "stdout",
     "output_type": "stream",
     "text": [
      "Validation Accuracy\n",
      "0.4482758620689655\n"
     ]
    }
   ],
   "source": [
    "'''Splitting data --- Top 10 correlated features -- Random Forest'''\n",
    "from sklearn.model_selection import train_test_split\n",
    "from sklearn.metrics import accuracy_score\n",
    "from sklearn.preprocessing import StandardScaler\n",
    "from sklearn.svm import LinearSVC\n",
    "from sklearn.ensemble import RandomForestClassifier\n",
    "\n",
    "X_train, X_test, Y_train, Y_test = train_test_split(X_corr.round(), Y.round(), test_size = 0.2)\n",
    "X_train, X_val, Y_train, Y_val = train_test_split(X_train.round(), Y_train.round(), test_size = 0.1)\n",
    "\n",
    "randF_clf = RandomForestClassifier(n_estimators = 6, max_depth = 6, max_features = 30, criterion = 'gini', warm_start = False)\n",
    "randF_clf.fit(X_train, Y_train)\n",
    "l_randF_pred = randF_clf.predict(X_val)\n",
    "print('Validation Accuracy')\n",
    "print(np.mean(l_randF_pred == Y_val))"
   ]
  },
  {
   "cell_type": "code",
   "execution_count": 292,
   "metadata": {},
   "outputs": [
    {
     "name": "stdout",
     "output_type": "stream",
     "text": [
      "Test Accuracy\n",
      "0.4305555555555556\n"
     ]
    }
   ],
   "source": [
    "# randF_clf = RandomForestClassifier(max_features = 10, criterion = 'entropy', warm_start = False)\n",
    "randF_clf.fit(X_train, Y_train)\n",
    "l_randF_pred = randF_clf.predict(X_test)\n",
    "print('Test Accuracy')\n",
    "print(np.mean(l_randF_pred == Y_test))\n"
   ]
  },
  {
   "cell_type": "code",
   "execution_count": 353,
   "metadata": {},
   "outputs": [
    {
     "name": "stdout",
     "output_type": "stream",
     "text": [
      "The accuracy of the model on: \n",
      "Validation Data:\n",
      "0.27586206896551724\n",
      "Test Data: \n",
      "0.38425925925925924\n"
     ]
    }
   ],
   "source": [
    "log_reg = LogisticRegression()\n",
    "\n",
    "X_train, X_test, Y_train, Y_test = train_test_split(X_corr.round(), Y.round(), test_size = 0.2)\n",
    "X_train, X_val, Y_train, Y_val = train_test_split(X_train.round(), Y_train.round(), test_size = 0.1)\n",
    "log_reg.fit(X_train, Y_train)\n",
    "log_reg_pred = log_reg.predict(X_val)\n",
    "print('The accuracy of the model on: ')\n",
    "print('Validation Data:'),\n",
    "print(np.mean(log_reg_pred == Y_val))\n",
    "\n",
    "log_reg_pred = log_reg.predict(X_test)\n",
    "print('Test Data: '),\n",
    "print(np.mean(log_reg_pred == Y_test))"
   ]
  },
  {
   "cell_type": "code",
   "execution_count": 494,
   "metadata": {},
   "outputs": [
    {
     "name": "stdout",
     "output_type": "stream",
     "text": [
      "Using Recursive Feature Elimination for selecting features and applying Logistic Regression...\n",
      "\n",
      "Fitting model on 30 features...\n",
      "The accuracy of the model on: \n",
      "Validation Data:\n",
      "0.3333333333333333\n",
      "Test Data:\n",
      "0.3611111111111111\n",
      "             precision    recall  f1-score   support\n",
      "\n",
      "    Score 1       0.27      0.30      0.29        23\n",
      "    Score 2       0.20      0.04      0.07        23\n",
      "    Score 3       0.29      0.31      0.30        54\n",
      "    Score 4       0.37      0.44      0.40        66\n",
      "    Score 5       0.50      0.48      0.49        50\n",
      "\n",
      "avg / total       0.35      0.36      0.35       216\n",
      "\n"
     ]
    }
   ],
   "source": [
    "from sklearn.feature_selection import RFE\n",
    "print('Using Recursive Feature Elimination for selecting features and applying Logistic Regression...\\n')\n",
    "log_reg = LogisticRegression(multi_class='ovr', C = 2, solver='newton-cg', max_iter=105, n_jobs=20)\n",
    "\n",
    "rfe = RFE(log_reg, 30)\n",
    "print('Fitting model on 30 features...')\n",
    "fit_ = rfe.fit(X_train, Y_train)\n",
    "# print(fit_.support_)\n",
    "pred = rfe.predict(X_val)\n",
    "print('The accuracy of the model on: ')\n",
    "print('Validation Data:'),\n",
    "# print(np.mean(pred == Y_val))\n",
    "score = accuracy_score(Y_val.round(), pred)\n",
    "print(score)\n",
    "\n",
    "pred = rfe.predict(X_test)\n",
    "print('Test Data:'),\n",
    "# print(np.mean(pred == Y_val))\n",
    "score = accuracy_score(Y_test.round(), pred)\n",
    "print(score)\n",
    "print(classification_report(Y_test, pred, target_names=target_names))"
   ]
  }
 ],
 "metadata": {
  "kernelspec": {
   "display_name": "Python 3",
   "language": "python",
   "name": "python3"
  },
  "language_info": {
   "codemirror_mode": {
    "name": "ipython",
    "version": 3
   },
   "file_extension": ".py",
   "mimetype": "text/x-python",
   "name": "python",
   "nbconvert_exporter": "python",
   "pygments_lexer": "ipython3",
   "version": "3.6.3"
  }
 },
 "nbformat": 4,
 "nbformat_minor": 2
}
